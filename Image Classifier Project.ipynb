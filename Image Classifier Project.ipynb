{
 "cells": [
  {
   "cell_type": "markdown",
   "metadata": {},
   "source": [
    "# Developing an AI application\n",
    "\n",
    "Going forward, AI algorithms will be incorporated into more and more everyday applications. For example, you might want to include an image classifier in a smart phone app. To do this, you'd use a deep learning model trained on hundreds of thousands of images as part of the overall application architecture. A large part of software development in the future will be using these types of models as common parts of applications. \n",
    "\n",
    "In this project, you'll train an image classifier to recognize different species of flowers. You can imagine using something like this in a phone app that tells you the name of the flower your camera is looking at. In practice you'd train this classifier, then export it for use in your application. We'll be using [this dataset](http://www.robots.ox.ac.uk/~vgg/data/flowers/102/index.html) of 102 flower categories, you can see a few examples below. \n",
    "\n",
    "<img src='assets/Flowers.png' width=500px>\n",
    "\n",
    "The project is broken down into multiple steps:\n",
    "\n",
    "* Load and preprocess the image dataset\n",
    "* Train the image classifier on your dataset\n",
    "* Use the trained classifier to predict image content\n",
    "\n",
    "We'll lead you through each part which you'll implement in Python.\n",
    "\n",
    "When you've completed this project, you'll have an application that can be trained on any set of labeled images. Here your network will be learning about flowers and end up as a command line application. But, what you do with your new skills depends on your imagination and effort in building a dataset. For example, imagine an app where you take a picture of a car, it tells you what the make and model is, then looks up information about it. Go build your own dataset and make something new.\n",
    "\n",
    "First up is importing the packages you'll need. It's good practice to keep all the imports at the beginning of your code. As you work through this notebook and find you need to import a package, make sure to add the import up here."
   ]
  },
  {
   "cell_type": "code",
   "execution_count": null,
   "metadata": {},
   "outputs": [],
   "source": [
    "# Imports here\n",
    "%matplotlib inline\n",
    "\n",
    "import numpy as np\n",
    "import matplotlib.pyplot as plt\n",
    "import seaborn as sb\n",
    "import json\n",
    "from PIL import Image\n",
    "\n",
    "import torch\n",
    "\n",
    "from torchvision import transforms, datasets, models\n",
    "from torch import nn, optim\n",
    "import torch.nn.functional as F\n",
    "from workspace_utils import active_session"
   ]
  },
  {
   "cell_type": "code",
   "execution_count": null,
   "metadata": {},
   "outputs": [],
   "source": [
    "load_model_from_checkpoint = False\n",
    "run_trainning = True\n",
    "train_executed = False\n",
    "\n",
    "checkpoint_path = 'densenet_batch128_1dropout1.pth'\n",
    "\n",
    "device ='cpu'\n",
    "if torch.cuda.is_available:\n",
    "    device = 'cuda'\n",
    "\n",
    "hidden_units = 512\n",
    "learning_rate = 0.0015\n",
    "batch_size = 128"
   ]
  },
  {
   "cell_type": "markdown",
   "metadata": {},
   "source": [
    "## Load the data\n",
    "\n",
    "Here you'll use `torchvision` to load the data ([documentation](http://pytorch.org/docs/0.3.0/torchvision/index.html)). The data should be included alongside this notebook, otherwise you can [download it here](https://s3.amazonaws.com/content.udacity-data.com/nd089/flower_data.tar.gz). The dataset is split into three parts, training, validation, and testing. For the training, you'll want to apply transformations such as random scaling, cropping, and flipping. This will help the network generalize leading to better performance. You'll also need to make sure the input data is resized to 224x224 pixels as required by the pre-trained networks.\n",
    "\n",
    "The validation and testing sets are used to measure the model's performance on data it hasn't seen yet. For this you don't want any scaling or rotation transformations, but you'll need to resize then crop the images to the appropriate size.\n",
    "\n",
    "The pre-trained networks you'll use were trained on the ImageNet dataset where each color channel was normalized separately. For all three sets you'll need to normalize the means and standard deviations of the images to what the network expects. For the means, it's `[0.485, 0.456, 0.406]` and for the standard deviations `[0.229, 0.224, 0.225]`, calculated from the ImageNet images.  These values will shift each color channel to be centered at 0 and range from -1 to 1.\n",
    " "
   ]
  },
  {
   "cell_type": "code",
   "execution_count": null,
   "metadata": {},
   "outputs": [],
   "source": [
    "data_dir = 'flowers'\n",
    "train_dir = data_dir + '/train'\n",
    "valid_dir = data_dir + '/valid'\n",
    "test_dir = data_dir + '/test'"
   ]
  },
  {
   "cell_type": "code",
   "execution_count": null,
   "metadata": {},
   "outputs": [],
   "source": [
    "# DONE: Define your transforms for the training, validation, and testing sets\n",
    "means = [0.485, 0.456, 0.406]\n",
    "std = [0.229, 0.224, 0.225]\n",
    "\n",
    "data_transforms = {'training' : transforms.Compose([transforms.RandomResizedCrop(224),\n",
    "                                                    transforms.RandomHorizontalFlip(),\n",
    "                                                    transforms.RandomRotation(90),\n",
    "                                                    transforms.ToTensor(),\n",
    "                                                    transforms.Normalize(means, std)]),\n",
    "                   \n",
    "                   'validation' : transforms.Compose([transforms.Resize(225),\n",
    "                                                      transforms.CenterCrop(224),\n",
    "                                                      transforms.ToTensor(),\n",
    "                                                      transforms.Normalize(means, std)]),\n",
    "                   \n",
    "                   'testing' : transforms.Compose([transforms.Resize(225),\n",
    "                                                   transforms.CenterCrop(224),\n",
    "                                                   transforms.ToTensor(),\n",
    "                                                   transforms.Normalize(means, std)])                                     \n",
    "                }\n",
    "\n",
    "\n",
    "# DONE: Load the datasets with ImageFolder\n",
    "image_datasets = {'training' : datasets.ImageFolder(train_dir,transform=data_transforms['training']),\n",
    "                  'validation' : datasets.ImageFolder(valid_dir,transform=data_transforms['validation']),\n",
    "                  'testing' : datasets.ImageFolder(test_dir,transform=data_transforms['testing'])\n",
    "                 }\n",
    "\n",
    "# DONE: Using the image datasets and the trainforms, define the dataloaders\n",
    "dataloaders = {'training' : torch.utils.data.DataLoader(image_datasets['training'],batch_size= 128, shuffle= True),\n",
    "               'validation' : torch.utils.data.DataLoader(image_datasets['validation'],batch_size= 32, shuffle= True),\n",
    "               'testing' : torch.utils.data.DataLoader(image_datasets['testing'],batch_size= 32, shuffle= True)\n",
    "              }"
   ]
  },
  {
   "cell_type": "markdown",
   "metadata": {},
   "source": [
    "### Label mapping\n",
    "\n",
    "You'll also need to load in a mapping from category label to category name. You can find this in the file `cat_to_name.json`. It's a JSON object which you can read in with the [`json` module](https://docs.python.org/2/library/json.html). This will give you a dictionary mapping the integer encoded categories to the actual names of the flowers."
   ]
  },
  {
   "cell_type": "code",
   "execution_count": null,
   "metadata": {},
   "outputs": [],
   "source": [
    "with open('cat_to_name.json', 'r') as f:\n",
    "    cat_to_name = json.load(f)"
   ]
  },
  {
   "cell_type": "code",
   "execution_count": null,
   "metadata": {},
   "outputs": [],
   "source": [
    "class_to_index = image_datasets['training'].class_to_idx\n",
    "class_from_index = dict([val,key] for key,val in class_to_index.items())\n",
    "\n",
    "print(class_from_index)"
   ]
  },
  {
   "cell_type": "code",
   "execution_count": null,
   "metadata": {},
   "outputs": [],
   "source": [
    "def get_class_name(class_from_index):\n",
    "    return cat_to_name[class_from_index]"
   ]
  },
  {
   "cell_type": "code",
   "execution_count": null,
   "metadata": {},
   "outputs": [],
   "source": [
    "get_class_name(class_from_index[0])"
   ]
  },
  {
   "cell_type": "markdown",
   "metadata": {},
   "source": [
    "# Building and training the classifier\n",
    "\n",
    "Now that the data is ready, it's time to build and train the classifier. As usual, you should use one of the pretrained models from `torchvision.models` to get the image features. Build and train a new feed-forward classifier using those features.\n",
    "\n",
    "We're going to leave this part up to you. If you want to talk through it with someone, chat with your fellow students! You can also ask questions on the forums or join the instructors in office hours.\n",
    "\n",
    "Refer to [the rubric](https://review.udacity.com/#!/rubrics/1663/view) for guidance on successfully completing this section. Things you'll need to do:\n",
    "\n",
    "* Load a [pre-trained network](http://pytorch.org/docs/master/torchvision/models.html) (If you need a starting point, the VGG networks work great and are straightforward to use)\n",
    "* Define a new, untrained feed-forward network as a classifier, using ReLU activations and dropout\n",
    "* Train the classifier layers using backpropagation using the pre-trained network to get the features\n",
    "* Track the loss and accuracy on the validation set to determine the best hyperparameters\n",
    "\n",
    "We've left a cell open for you below, but use as many as you need. Our advice is to break the problem up into smaller parts you can run separately. Check that each part is doing what you expect, then move on to the next. You'll likely find that as you work through each part, you'll need to go back and modify your previous code. This is totally normal!\n",
    "\n",
    "When training make sure you're updating only the weights of the feed-forward network. You should be able to get the validation accuracy above 70% if you build everything right. Make sure to try different hyperparameters (learning rate, units in the classifier, epochs, etc) to find the best model. Save those hyperparameters to use as default values in the next part of the project."
   ]
  },
  {
   "cell_type": "code",
   "execution_count": null,
   "metadata": {},
   "outputs": [],
   "source": [
    "# DONE: Build and train your network\n",
    "densenet = models.densenet161(pretrained=True)"
   ]
  },
  {
   "cell_type": "code",
   "execution_count": null,
   "metadata": {},
   "outputs": [],
   "source": [
    "# Check the densenet layers\n",
    "densenet"
   ]
  },
  {
   "cell_type": "code",
   "execution_count": null,
   "metadata": {},
   "outputs": [],
   "source": [
    "# Freeze layers\n",
    "for param in densenet.parameters():\n",
    "    param.requires_grad = False"
   ]
  },
  {
   "cell_type": "code",
   "execution_count": null,
   "metadata": {},
   "outputs": [],
   "source": [
    "# Input size of our network should match the output of the pre-trained network\n",
    "classifier_input_size = densenet.classifier.in_features\n",
    "print(classifier_input_size)"
   ]
  },
  {
   "cell_type": "code",
   "execution_count": null,
   "metadata": {},
   "outputs": [],
   "source": [
    "resnet = models.resnet50(pretrained=True)"
   ]
  },
  {
   "cell_type": "code",
   "execution_count": null,
   "metadata": {},
   "outputs": [],
   "source": [
    "\n",
    "resnet.fc.in_features"
   ]
  },
  {
   "cell_type": "code",
   "execution_count": null,
   "metadata": {},
   "outputs": [],
   "source": [
    "def create_classifier():\n",
    "    classifier = nn.Sequential(\n",
    "        nn.Linear(classifier_input_size,hidden_units),\n",
    "        nn.Dropout(),    \n",
    "        nn.ReLU(),        \n",
    "        nn.Linear(hidden_units,256),\n",
    "        nn.ReLU(), \n",
    "        #nn.Dropout(),\n",
    "        nn.Linear(256,128),\n",
    "        nn.ReLU(),\n",
    "        #nn.Dropout(),\n",
    "        nn.Linear(128,102),\n",
    "        nn.LogSoftmax(dim = 1))\n",
    "    return classifier"
   ]
  },
  {
   "cell_type": "code",
   "execution_count": null,
   "metadata": {},
   "outputs": [],
   "source": [
    "classifier = create_classifier()\n",
    "\n",
    "densenet.classifier = classifier\n",
    "densenet.to(device)"
   ]
  },
  {
   "cell_type": "code",
   "execution_count": null,
   "metadata": {},
   "outputs": [],
   "source": [
    "def test_accuracy(model,dataloader,criterion):\n",
    "    current_loss = 0\n",
    "    accuracy = 0\n",
    "    model.eval()\n",
    "    \n",
    "    for images, labels in dataloader:\n",
    "        images, labels = images.to(device), labels.to(device)       \n",
    "        \n",
    "        output = model.forward(images)\n",
    "        current_loss += criterion(output,labels).item()\n",
    "        \n",
    "        ps = torch.exp(output)\n",
    "                   \n",
    "        # Each probability consist in an array of probabilities, the predicted class is the\n",
    "        # highest probability of each one, so we need to get the max of the probabilitie for each \n",
    "        # prediction in order to find the predicted_class         \n",
    "        \n",
    "        predicted_classes = ps.max(dim=1)[1]\n",
    "        \n",
    "        # To find the correct classified items we compare labels with the predicted_classes\n",
    "        # and we will get back an array of booleans with 1 if the prediction was correct or\n",
    "        # 0 otherwise\n",
    "                \n",
    "        correct_predictions = (labels.data == predicted_classes)\n",
    "\n",
    "        accuracy += correct_predictions.type(torch.FloatTensor).mean()\n",
    "        \n",
    "    return current_loss, accuracy"
   ]
  },
  {
   "cell_type": "code",
   "execution_count": null,
   "metadata": {},
   "outputs": [],
   "source": [
    "criterion = nn.NLLLoss()\n",
    "adam_optimizer = optim.Adam(densenet.classifier.parameters(), lr = learning_rate)"
   ]
  },
  {
   "cell_type": "code",
   "execution_count": null,
   "metadata": {},
   "outputs": [],
   "source": [
    "def train_network(model):\n",
    "# Train Network\n",
    "    epochs = 15\n",
    "    print_every = 20\n",
    "    step = 0\n",
    "    running_loss = 0\n",
    "    validation_data = dataloaders['validation']\n",
    "    len_val = len(validation_data)\n",
    "\n",
    "    model = model.to(device)    \n",
    "\n",
    "    \n",
    "    for epoch in range(epochs):\n",
    "        running_loss = 0    \n",
    "        model.train()\n",
    "\n",
    "        for inputs, y in dataloaders['training']:\n",
    "            step += 1\n",
    "            adam_optimizer.zero_grad()\n",
    "            inputs, y = inputs.to(device), y.to(device)\n",
    "\n",
    "            y_hat = model.forward(inputs)\n",
    "\n",
    "            loss = criterion(y_hat,y)\n",
    "            loss.backward()\n",
    "\n",
    "            adam_optimizer.step()\n",
    "\n",
    "            running_loss += loss.item()\n",
    "\n",
    "            if step %  print_every == 0:\n",
    "                model.eval()\n",
    "\n",
    "                with torch.no_grad():\n",
    "                    test_loss, accuracy = test_accuracy(model,validation_data,criterion)\n",
    "\n",
    "                print(\"Epoch: {}/{}... \".format(epoch+1, epochs),\n",
    "                      \"Loss: {:.3f}\".format(running_loss/print_every),\n",
    "                      \"Test Loss: {:.3f}\".format(test_loss/len_val),\n",
    "                      \"Test Accuracy: {:.3f}\".format(accuracy/len_val))\n",
    "\n",
    "                running_loss = 0\n",
    "                model.train()\n",
    "\n",
    "    train_executed = True"
   ]
  },
  {
   "cell_type": "markdown",
   "metadata": {},
   "source": [
    "## Testing your network\n",
    "\n",
    "It's good practice to test your trained network on test data, images the network has never seen either in training or validation. This will give you a good estimate for the model's performance on completely new images. Run the test images through the network and measure the accuracy, the same way you did validation. You should be able to reach around 70% accuracy on the test set if the model has been trained well."
   ]
  },
  {
   "cell_type": "code",
   "execution_count": null,
   "metadata": {},
   "outputs": [],
   "source": [
    "# TODO: Do validation on the test set\n",
    "model_validated = False\n",
    "def validate_trained_model(dataloader):\n",
    "    _, accuracy = test_accuracy(densenet,dataloader,criterion)\n",
    "    print('Accuracy in the validation set is: {} %'.format(round(float(accuracy/len(dataloader)),2)*100))\n",
    "    #print('Accuracy in the validation set is: {} '.format(accuracy/len(dataloaders['validation'])))\n",
    "    \n",
    "# DONE: Do validation on the test set\n",
    "if train_executed:    \n",
    "    validate_trained_model(dataloaders['testing'])\n",
    "    model_validated =True\n",
    "else:\n",
    "    print('Model was not trained yet, check the model accuracy below after loading the checkpoint')"
   ]
  },
  {
   "cell_type": "markdown",
   "metadata": {},
   "source": [
    "## Save the checkpoint\n",
    "\n",
    "Now that your network is trained, save the model so you can load it later for making predictions. You probably want to save other things such as the mapping of classes to indices which you get from one of the image datasets: `image_datasets['train'].class_to_idx`. You can attach this to the model as an attribute which makes inference easier later on.\n",
    "\n",
    "```model.class_to_idx = image_datasets['train'].class_to_idx```\n",
    "\n",
    "Remember that you'll want to completely rebuild the model later so you can use it for inference. Make sure to include any information you need in the checkpoint. If you want to load the model and keep training, you'll want to save the number of epochs as well as the optimizer state, `optimizer.state_dict`. You'll likely want to use this trained model in the next part of the project, so best to save it now."
   ]
  },
  {
   "cell_type": "code",
   "execution_count": null,
   "metadata": {},
   "outputs": [],
   "source": [
    "# TODO: Save the checkpoint \n",
    "def save_checkpoint():\n",
    "    checkpoint = {'class_from_index' : class_from_index,\n",
    "                  'class_to_index' : class_to_index,\n",
    "                  'hidden_units' : hidden_units,\n",
    "                  'learning_rate' : learning_rate,\n",
    "                  'batch_size' : batch_size,\n",
    "                  'device' : device,\n",
    "                  'state_dict' : densenet.state_dict()}\n",
    "    torch.save(checkpoint, checkpoint_path)\n",
    "    print('Checkpoint saved')"
   ]
  },
  {
   "cell_type": "code",
   "execution_count": null,
   "metadata": {},
   "outputs": [],
   "source": [
    "if run_trainning:\n",
    "    train_network(densenet)\n",
    "    save_checkpoint()"
   ]
  },
  {
   "cell_type": "code",
   "execution_count": null,
   "metadata": {},
   "outputs": [],
   "source": [
    "# DONE: Save the checkpoint \n",
    "if train_executed:    \n",
    "    save_checkpoint()"
   ]
  },
  {
   "cell_type": "markdown",
   "metadata": {},
   "source": [
    "## Loading the checkpoint\n",
    "\n",
    "At this point it's good to write a function that can load a checkpoint and rebuild the model. That way you can come back to this project and keep working on it without having to retrain the network."
   ]
  },
  {
   "cell_type": "code",
   "execution_count": null,
   "metadata": {},
   "outputs": [],
   "source": [
    "# DONE: Write a function that loads a checkpoint and rebuilds the model\n",
    "def load_checkpoint(path):\n",
    "    # Load checkpoint\n",
    "    checkpoint = torch.load(path)        \n",
    "    \n",
    "    hidden_units = checkpoint['hidden_units']\n",
    "    learning_rate = checkpoint['learning_rate']\n",
    "    batch_size = checkpoint['batch_size']\n",
    "    class_to_index = checkpoint['class_to_index']\n",
    "    \n",
    "    # Rebuild Model\n",
    "    classifier = create_classifier()\n",
    "    densenet = models.densenet161(pretrained=True)\n",
    "    densenet.classifier = classifier\n",
    "    densenet.to(checkpoint['device'])\n",
    "    \n",
    "    densenet.load_state_dict(checkpoint['state_dict'])\n",
    "    class_from_index = checkpoint['class_from_index']\n",
    "    "
   ]
  },
  {
   "cell_type": "code",
   "execution_count": null,
   "metadata": {},
   "outputs": [],
   "source": [
    "if load_model_from_checkpoint:\n",
    "    load_checkpoint(checkpoint_path)\n",
    "    print('Checkpoint loaded!')\n",
    "else:\n",
    "    print('Starting from scratch')"
   ]
  },
  {
   "cell_type": "code",
   "execution_count": null,
   "metadata": {},
   "outputs": [],
   "source": [
    "if not model_validated:\n",
    "    validate_trained_model(dataloaders['testing'])\n",
    "    model_validated = True\n",
    "else:\n",
    "    print('Model was already validated')"
   ]
  },
  {
   "cell_type": "markdown",
   "metadata": {},
   "source": [
    "# Inference for classification\n",
    "\n",
    "Now you'll write a function to use a trained network for inference. That is, you'll pass an image into the network and predict the class of the flower in the image. Write a function called `predict` that takes an image and a model, then returns the top $K$ most likely classes along with the probabilities. It should look like \n",
    "\n",
    "```python\n",
    "probs, classes = predict(image_path, model)\n",
    "print(probs)\n",
    "print(classes)\n",
    "> [ 0.01558163  0.01541934  0.01452626  0.01443549  0.01407339]\n",
    "> ['70', '3', '45', '62', '55']\n",
    "```\n",
    "\n",
    "First you'll need to handle processing the input image such that it can be used in your network. \n",
    "\n",
    "## Image Preprocessing\n",
    "\n",
    "You'll want to use `PIL` to load the image ([documentation](https://pillow.readthedocs.io/en/latest/reference/Image.html)). It's best to write a function that preprocesses the image so it can be used as input for the model. This function should process the images in the same manner used for training. \n",
    "\n",
    "First, resize the images where the shortest side is 256 pixels, keeping the aspect ratio. This can be done with the [`thumbnail`](http://pillow.readthedocs.io/en/3.1.x/reference/Image.html#PIL.Image.Image.thumbnail) or [`resize`](http://pillow.readthedocs.io/en/3.1.x/reference/Image.html#PIL.Image.Image.thumbnail) methods. Then you'll need to crop out the center 224x224 portion of the image.\n",
    "\n",
    "Color channels of images are typically encoded as integers 0-255, but the model expected floats 0-1. You'll need to convert the values. It's easiest with a Numpy array, which you can get from a PIL image like so `np_image = np.array(pil_image)`.\n",
    "\n",
    "As before, the network expects the images to be normalized in a specific way. For the means, it's `[0.485, 0.456, 0.406]` and for the standard deviations `[0.229, 0.224, 0.225]`. You'll want to subtract the means from each color channel, then divide by the standard deviation. \n",
    "\n",
    "And finally, PyTorch expects the color channel to be the first dimension but it's the third dimension in the PIL image and Numpy array. You can reorder dimensions using [`ndarray.transpose`](https://docs.scipy.org/doc/numpy-1.13.0/reference/generated/numpy.ndarray.transpose.html). The color channel needs to be first and retain the order of the other two dimensions."
   ]
  },
  {
   "cell_type": "code",
   "execution_count": null,
   "metadata": {},
   "outputs": [],
   "source": [
    "# DONE: Process a PIL image for use in a PyTorch model\n",
    "def process_image(image):\n",
    "    ''' Scales, crops, and normalizes a PIL image for a PyTorch model,\n",
    "        returns an Numpy array\n",
    "    '''\n",
    "    img = Image.open(image)\n",
    "    \n",
    "    transformations = transforms.Compose([transforms.Resize(256),\n",
    "                        transforms.CenterCrop(224),\n",
    "                        transforms.ToTensor(),\n",
    "                        transforms.Normalize(means, std)])\n",
    "    img = transformations(img)\n",
    "    \n",
    "    np_image = np.array(img) \n",
    "    \n",
    "    \n",
    "    return np_image\n",
    "    "
   ]
  },
  {
   "cell_type": "markdown",
   "metadata": {},
   "source": [
    "To check your work, the function below converts a PyTorch tensor and displays it in the notebook. If your `process_image` function works, running the output through this function should return the original image (except for the cropped out portions)."
   ]
  },
  {
   "cell_type": "code",
   "execution_count": null,
   "metadata": {},
   "outputs": [],
   "source": [
    "def imshow(image, ax=None, title=None):\n",
    "    if ax is None:\n",
    "        fig, ax = plt.subplots()\n",
    "    \n",
    "    # PyTorch tensors assume the color channel is the first dimension\n",
    "    # but matplotlib assumes is the third dimension\n",
    "    image = image.transpose((1, 2, 0))\n",
    "    \n",
    "    # Undo preprocessing\n",
    "    mean = np.array([0.485, 0.456, 0.406])\n",
    "    std = np.array([0.229, 0.224, 0.225])\n",
    "    image = std * image + mean\n",
    "    \n",
    "    # Image needs to be clipped between 0 and 1 or it looks like noise when displayed\n",
    "    image = np.clip(image, 0, 1)\n",
    "    \n",
    "    ax.axis('off')\n",
    "    if title != None:\n",
    "        ax.set_title(title)\n",
    "    ax.imshow(image);\n",
    "    \n",
    "    return ax"
   ]
  },
  {
   "cell_type": "code",
   "execution_count": null,
   "metadata": {},
   "outputs": [],
   "source": [
    "test_paths = [\n",
    "    'flowers/valid/1/image_06739.jpg',\n",
    "    'flowers/valid/1/image_06749.jpg',\n",
    "    'flowers/valid/43/image_02336.jpg',\n",
    "    'flowers/valid/10/image_07094.jpg',\n",
    "'flowers/valid/10/image_07101.jpg',\n",
    "'flowers/valid/10/image_07102.jpg',\n",
    "'flowers/valid/10/image_07107.jpg',\n",
    "\n",
    "'flowers/valid/100/image_07895.jpg',\n",
    "'flowers/valid/100/image_07904.jpg',\n",
    "'flowers/valid/100/image_07905.jpg',\n",
    "'flowers/valid/100/image_07917.jpg',\n",
    "'flowers/valid/100/image_07929.jpg',\n",
    "\n",
    "'flowers/valid/101/image_07951.jpg',\n",
    "'flowers/valid/101/image_07962.jpg',\n",
    "'flowers/valid/101/image_07963.jpg',\n",
    "'flowers/valid/101/image_07970.jpg',\n",
    "'flowers/valid/101/image_07985.jpg']\n",
    "\n",
    "imshow(process_image(test_paths[1]))"
   ]
  },
  {
   "cell_type": "markdown",
   "metadata": {},
   "source": [
    "## Class Prediction\n",
    "\n",
    "Once you can get images in the correct format, it's time to write a function for making predictions with your model. A common practice is to predict the top 5 or so (usually called top-$K$) most probable classes. You'll want to calculate the class probabilities then find the $K$ largest values.\n",
    "\n",
    "To get the top $K$ largest values in a tensor use [`x.topk(k)`](http://pytorch.org/docs/master/torch.html#torch.topk). This method returns both the highest `k` probabilities and the indices of those probabilities corresponding to the classes. You need to convert from these indices to the actual class labels using `class_to_idx` which hopefully you added to the model or from an `ImageFolder` you used to load the data ([see here](#Save-the-checkpoint)). Make sure to invert the dictionary so you get a mapping from index to class as well.\n",
    "\n",
    "Again, this method should take a path to an image and a model checkpoint, then return the probabilities and classes.\n",
    "\n",
    "```python\n",
    "probs, classes = predict(image_path, model)\n",
    "print(probs)\n",
    "print(classes)\n",
    "> [ 0.01558163  0.01541934  0.01452626  0.01443549  0.01407339]\n",
    "> ['70', '3', '45', '62', '55']\n",
    "```"
   ]
  },
  {
   "cell_type": "code",
   "execution_count": null,
   "metadata": {},
   "outputs": [],
   "source": [
    "# DONE: Implement the code to predict the class from an image file\n",
    "def predict(image_path, model, topk=5):\n",
    "    ''' Predict the class (or classes) of an image using a trained deep learning model.\n",
    "    '''\n",
    "    image = process_image(image_path)\n",
    "    image = torch.from_numpy(image)\n",
    "    image = image.to(device)\n",
    "    \n",
    "    model.eval()\n",
    "    \n",
    "    image.unsqueeze_(0)\n",
    "    \n",
    "    output = model.forward(image)\n",
    "    \n",
    "    ps = torch.exp(output)    \n",
    "        \n",
    "    probs, classes = ps.topk(topk)        \n",
    "    probs, classes = probs.cpu().detach().numpy(),classes.cpu().detach().numpy()\n",
    "    \n",
    "    return probs , classes   "
   ]
  },
  {
   "cell_type": "code",
   "execution_count": null,
   "metadata": {},
   "outputs": [],
   "source": [
    "print(class_to_index['1'])\n",
    "print(class_to_index['43'])"
   ]
  },
  {
   "cell_type": "code",
   "execution_count": null,
   "metadata": {},
   "outputs": [],
   "source": [
    "# DONE: Checks\n",
    "\n",
    "ps, classes = predict(paths_1[0],densenet)\n",
    "\n",
    "#classes = classes.cpu().numpy()\n",
    "correct_precition = 0 in classes\n",
    "\n",
    "print('Prediction is correct: {} with classes {}'.format(correct_precition,classes))\n",
    "\n",
    "ps, classes = predict(paths_1[1],densenet)\n",
    "#classes = classes.cpu().numpy()\n",
    "correct_precition = 0 in classes\n",
    "\n",
    "print('Prediction is correct: {} with classes {}'.format(correct_precition,classes))\n",
    "\n",
    "ps, classes = predict(paths_43[0],densenet)\n",
    "#classes = classes.cpu().numpy()\n",
    "correct_precition = 40 in classes\n",
    "\n",
    "print('Prediction is correct: {} with classes {}'.format(correct_precition,classes))"
   ]
  },
  {
   "cell_type": "markdown",
   "metadata": {},
   "source": [
    "## Sanity Checking\n",
    "\n",
    "Now that you can use a trained model for predictions, check to make sure it makes sense. Even if the testing accuracy is high, it's always good to check that there aren't obvious bugs. Use `matplotlib` to plot the probabilities for the top 5 classes as a bar graph, along with the input image. It should look like this:\n",
    "\n",
    "<img src='assets/inference_example.png' width=300px>\n",
    "\n",
    "You can convert from the class integer encoding to actual flower names with the `cat_to_name.json` file (should have been loaded earlier in the notebook). To show a PyTorch tensor as an image, use the `imshow` function defined above."
   ]
  },
  {
   "cell_type": "code",
   "execution_count": null,
   "metadata": {},
   "outputs": [],
   "source": [
    "# TODO: Display an image along with the top 5 classes\n",
    "def display_prediction_probs(path, model):\n",
    "    ps, classes = predict(path, model)\n",
    "    \n",
    "    # Create labels with category names for the topK predictions    \n",
    "    categories = [cat_to_name[class_from_index[idx]] for idx in classes[0]] # [cat_to_name[idx] for idx in classes]       \n",
    "            \n",
    "    # Get true label\n",
    "    true_idx = path.split('/')[2]\n",
    "    true_label = cat_to_name[true_idx]\n",
    "    \n",
    "    # Show image with correct label\n",
    "    fig, ax = plt.subplots(2,1)    \n",
    "    \n",
    "    imshow(process_image(path),title=true_label, ax = ax[0])    \n",
    "        \n",
    "    ax[1] = sb.barplot(x= ps[0], y= categories, color= sb.color_palette()[0])    \n",
    "    #ax.plot()\n",
    "    \n",
    "    # Plot predictions with labels\n",
    "    \n",
    "    plt.show() "
   ]
  },
  {
   "cell_type": "code",
   "execution_count": null,
   "metadata": {},
   "outputs": [],
   "source": [
    "def display_prediction(path, model):\n",
    "    # Get true label\n",
    "    true_idx = path.split('/')[2]\n",
    "    true_label = cat_to_name[true_idx]\n",
    "    \n",
    "    imshow(process_image(path),title=true_label)\n",
    "    display_prediction_probs(path, model)"
   ]
  },
  {
   "cell_type": "code",
   "execution_count": null,
   "metadata": {},
   "outputs": [],
   "source": [
    "for path in test_paths:\n",
    "    display_prediction_probs(path,densenet)\n",
    "\n"
   ]
  },
  {
   "cell_type": "code",
   "execution_count": null,
   "metadata": {},
   "outputs": [],
   "source": [
    "display_prediction_probs(paths_1[1],densenet)"
   ]
  },
  {
   "cell_type": "code",
   "execution_count": null,
   "metadata": {},
   "outputs": [],
   "source": [
    "display_prediction_probs(paths_43[0],densenet)"
   ]
  },
  {
   "cell_type": "raw",
   "metadata": {},
   "source": [
    "idxs = np.array([50,  0,  6, 45, 90])\n",
    "\n",
    "#print(type(a))\n",
    "labels = {50:'fifty', 0:'zero', 6:'six' , 45:'forty five',90:'ninety'}\n",
    "print([cat_to_name[class_from_index[idx]] for idx in idxs ])\n"
   ]
  },
  {
   "cell_type": "raw",
   "metadata": {},
   "source": [
    "type(classes)"
   ]
  },
  {
   "cell_type": "raw",
   "metadata": {},
   "source": [
    "categories = [cat_to_name[class_from_index[idx]] for idx in classes[0]] # [cat_to_name[idx] for idx in classes]\n"
   ]
  },
  {
   "cell_type": "raw",
   "metadata": {},
   "source": [
    "categories"
   ]
  },
  {
   "cell_type": "code",
   "execution_count": null,
   "metadata": {},
   "outputs": [],
   "source": [
    "probs =  [ 0.3366361,   0.24463563,  0.10304732,  0.08841886 , 0.0409045 ]\n",
    "cats = ['a','b','c','d','e']\n",
    "sb.barplot(x= probs, y= cats,color= sb.color_palette()[0])\n"
   ]
  }
 ],
 "metadata": {
  "kernelspec": {
   "display_name": "Python 3",
   "language": "python",
   "name": "python3"
  },
  "language_info": {
   "codemirror_mode": {
    "name": "ipython",
    "version": 3
   },
   "file_extension": ".py",
   "mimetype": "text/x-python",
   "name": "python",
   "nbconvert_exporter": "python",
   "pygments_lexer": "ipython3",
   "version": "3.6.4"
  }
 },
 "nbformat": 4,
 "nbformat_minor": 2
}
